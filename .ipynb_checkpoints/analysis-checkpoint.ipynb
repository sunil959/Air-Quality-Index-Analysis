{
 "cells": [
  {
   "cell_type": "code",
   "execution_count": 1,
   "metadata": {
    "collapsed": true
   },
   "outputs": [],
   "source": [
    "import numpy as np\n",
    "import gmaps\n",
    "import gmaps.datasets\n",
    "import os\n",
    "import requests\n",
    "from ipywidgets.embed import embed_minimal_html\n",
    "from scipy.interpolate import Rbf\n",
    "from time import sleep"
   ]
  },
  {
   "cell_type": "markdown",
   "metadata": {},
   "source": [
    "## Statistics:\n",
    "- Annual PM2.5 Average in India\n",
    "- Annual PM2.5 Average in New Delhi\n",
    "- Heat Map of PM2.5 Average in New Delhi for 2016\n",
    "- Heat Map of PM2.5 Averages in India for 2016\n",
    "- Most polluted and least polluted cities in India\n",
    "- Most polluted and least polluted neighborhoods in New Delhi"
   ]
  },
  {
   "cell_type": "code",
   "execution_count": 2,
   "metadata": {
    "collapsed": true
   },
   "outputs": [],
   "source": [
    "f = open('id-mappings/city-ids.txt', 'r')\n",
    "cities = f.readlines()\n",
    "cities = map(lambda elem: elem.split(\",\"), cities)[1:]\n",
    "cities = map(lambda elem: [elem[0], elem[1], elem[2], elem[3][:-1]], cities)\n",
    "cities = filter(lambda elem: elem[2].isdigit(), cities)"
   ]
  },
  {
   "cell_type": "code",
   "execution_count": 3,
   "metadata": {},
   "outputs": [
    {
     "name": "stdout",
     "output_type": "stream",
     "text": [
      "[89.23, 47.35, 73.79]\n",
      "[95.8]\n",
      "[103.93]\n",
      "[166.36]\n",
      "[151.13]\n",
      "[122.68, 206.29, 164.33]\n",
      "[45.88]\n",
      "[32.37]\n",
      "[196.22]\n",
      "[148.85]\n",
      "[144.68, 326.36, 139.61, 278.77, 145.87, 135.92, 216.32, 119.59, 143.32, 176.39]\n",
      "[124.34]\n",
      "[161.04]\n",
      "[53.98]\n",
      "[109.92]\n",
      "[183.35]\n",
      "[116.41, 62.8, 45.21]\n",
      "[87.03]\n",
      "[64.26]\n",
      "[64.14]\n",
      "[39.48, 41.27]\n",
      "[38.83]\n",
      "[68.63]\n",
      "[84.39]\n",
      "[79.18, 48.61]\n",
      "[49.7, 87.82, 47.47]\n"
     ]
    }
   ],
   "source": [
    "india_data = {}\n",
    "for elem in cities:\n",
    "    _, stateName, _, cityName = elem\n",
    "    f = open('data/{}_{}.txt'.format(stateName, cityName), 'r')\n",
    "    city_data = f.readlines()\n",
    "    city_data = filter(lambda elem: elem != \"\\n\", city_data)\n",
    "    city_data = map(lambda elem: elem.split(\",\"), city_data)\n",
    "    city_data = filter(lambda elem: elem[0] == \"2016\", city_data)\n",
    "    city_data = map(lambda elem: float(elem[1].rstrip(\"\\n\")), city_data)\n",
    "    if len(city_data) > 0:\n",
    "        print city_data\n",
    "        india_data[(stateName, cityName)] = np.mean(city_data)\n"
   ]
  },
  {
   "cell_type": "code",
   "execution_count": 4,
   "metadata": {
    "collapsed": true
   },
   "outputs": [],
   "source": [
    "india_data = [[k, v] for (k, v) in india_data.iteritems()]\n",
    "india_data = sorted(india_data, key=lambda x: x[1])"
   ]
  },
  {
   "cell_type": "code",
   "execution_count": 5,
   "metadata": {
    "collapsed": true
   },
   "outputs": [],
   "source": [
    "gmaps.configure(api_key=os.environ[\"GOOGLE_API_KEY\"])"
   ]
  },
  {
   "cell_type": "code",
   "execution_count": 6,
   "metadata": {
    "collapsed": true
   },
   "outputs": [],
   "source": [
    "def decode_address_to_coordinates(address):\n",
    "        params = {\n",
    "                'address' : address,\n",
    "                'sensor' : 'false',\n",
    "        }  \n",
    "        url = 'http://maps.google.com/maps/api/geocode/json'\n",
    "        r = requests.get(url, params = params)\n",
    "        return r.json()['results'][0]['geometry']['location']"
   ]
  },
  {
   "cell_type": "code",
   "execution_count": 8,
   "metadata": {
    "collapsed": true
   },
   "outputs": [],
   "source": [
    "locations = []\n",
    "for (state, city), val in india_data:\n",
    "    locations.append([(state, city), decode_address_to_coordinates(\"{}, {}\".format(city, state)).values()])"
   ]
  },
  {
   "cell_type": "code",
   "execution_count": 9,
   "metadata": {},
   "outputs": [
    {
     "data": {
      "application/vnd.jupyter.widget-view+json": {
       "model_id": "50ca638080c9487083aa45fd4d746a49",
       "version_major": 2,
       "version_minor": 0
      },
      "text/plain": [
       "A Jupyter Widget"
      ]
     },
     "metadata": {},
     "output_type": "display_data"
    }
   ],
   "source": [
    "india_coordinates = decode_address_to_coordinates(\"India\").values()\n",
    "fig = gmaps.figure(center=india_coordinates, zoom_level=4)\n",
    "\n",
    "weights = map(lambda x: x[1], india_data)\n",
    "coordinates = map(lambda x: x[1], locations)\n",
    "heatmap_layer = gmaps.heatmap_layer(coordinates, weights=weights)\n",
    "heatmap_layer.max_intensity = 200\n",
    "heatmap_layer.point_radius = 2.0\n",
    "heatmap_layer.dissipating = False\n",
    "fig.add_layer(heatmap_layer)\n",
    "\n",
    "info_box_template = \"\"\"\n",
    "<div>\n",
    "<p><b>City:</b> {0}, {1}</p>\n",
    "<p><b>PM2.5:</b> {2:.2f}</p>\n",
    "</div>\n",
    "\"\"\"\n",
    "city_info = [info_box_template.format(city_data[0][1], city_data[0][0], city_data[1]) for city_data in india_data]\n",
    "\n",
    "marker_layer = gmaps.marker_layer(coordinates, info_box_content=city_info)\n",
    "fig.add_layer(marker_layer)\n",
    "\n",
    "fig"
   ]
  },
  {
   "cell_type": "code",
   "execution_count": 10,
   "metadata": {
    "collapsed": true
   },
   "outputs": [],
   "source": [
    "embed_minimal_html('national-aq.html', views=[fig])"
   ]
  },
  {
   "cell_type": "code",
   "execution_count": 11,
   "metadata": {},
   "outputs": [
    {
     "name": "stdout",
     "output_type": "stream",
     "text": [
      "Tirupati: 32.37 ug/m3\n",
      "Solapur: 38.83 ug/m3\n",
      "Mumbai: 40.38 ug/m3\n",
      "Visakhapatnam: 45.88 ug/m3\n",
      "Panchkula: 53.98 ug/m3\n",
      "Lucknow: 164.43 ug/m3\n",
      "Kanpur: 166.36 ug/m3\n",
      "Delhi: 182.68 ug/m3\n",
      "Ahmedabad: 183.35 ug/m3\n",
      "Gaya: 196.22 ug/m3\n"
     ]
    }
   ],
   "source": [
    "for d in india_data[:5]:\n",
    "    print \"{0}: {1:.2f} ug/m3\".format(d[0][1], d[1])\n",
    "for d in india_data[-5:]:\n",
    "    print \"{0}: {1:.2f} ug/m3\".format(d[0][1], d[1])"
   ]
  },
  {
   "cell_type": "code",
   "execution_count": 13,
   "metadata": {
    "collapsed": true
   },
   "outputs": [],
   "source": [
    "coordinates = np.array(coordinates)"
   ]
  },
  {
   "cell_type": "code",
   "execution_count": 14,
   "metadata": {
    "collapsed": true
   },
   "outputs": [],
   "source": [
    "x = coordinates[:, 0]\n",
    "y = coordinates[:, 1]"
   ]
  },
  {
   "cell_type": "code",
   "execution_count": 15,
   "metadata": {
    "collapsed": true
   },
   "outputs": [],
   "source": [
    "# Interpolating and plotting again\n",
    "rbfi = Rbf(x, y, weights, function = \"inverse\")"
   ]
  },
  {
   "cell_type": "code",
   "execution_count": 16,
   "metadata": {
    "collapsed": true
   },
   "outputs": [],
   "source": [
    "# sleep(0.05)\n",
    "data = open('indian-cities.csv', 'r').readlines()\n",
    "data = map(lambda x: x.split(\"\\r\"), data)[0]"
   ]
  },
  {
   "cell_type": "code",
   "execution_count": 17,
   "metadata": {
    "collapsed": true
   },
   "outputs": [],
   "source": [
    "cities = []\n",
    "for city in data:\n",
    "    cities.append(decode_address_to_coordinates(\"{}, India\".format(city)).values())\n",
    "    sleep(1)"
   ]
  },
  {
   "cell_type": "code",
   "execution_count": 18,
   "metadata": {},
   "outputs": [
    {
     "name": "stdout",
     "output_type": "stream",
     "text": [
      "[[ 19.0759837  72.8776559]\n",
      " [ 28.7040592  77.1024902]\n",
      " [ 12.9715987  77.5945627]\n",
      " [ 23.022505   72.5713621]\n",
      " [ 17.385044   78.486671 ]\n",
      " [ 13.0826802  80.2707184]\n",
      " [ 22.572646   88.363895 ]\n",
      " [ 18.5204303  73.8567437]\n",
      " [ 26.9124336  75.7872709]\n",
      " [ 21.1702401  72.8310607]\n",
      " [ 26.8466937  80.946166 ]\n",
      " [ 26.449923   80.3318736]\n",
      " [ 21.1458004  79.0881546]\n",
      " [ 25.5940947  85.1375645]\n",
      " [ 22.7195687  75.8577258]\n",
      " [ 19.2183307  72.9780897]\n",
      " [ 23.2599333  77.412615 ]\n",
      " [ 17.6868159  83.2184815]\n",
      " [ 22.3071588  73.1812187]\n",
      " [ 27.1591006  78.3957574]\n",
      " [ 30.900965   75.8572758]\n",
      " [ 22.3038945  70.8021599]\n",
      " [ 27.1766701  78.0080745]\n",
      " [ 26.7271012  88.3952861]\n",
      " [ 19.9974533  73.7898023]\n",
      " [ 28.4089123  77.3177894]\n",
      " [ 30.3397809  76.3868797]\n",
      " [ 28.9844618  77.7064137]\n",
      " [ 19.2405315  73.1282632]\n",
      " [ 19.3919275  72.8397317]\n",
      " [ 25.3176452  82.9739144]\n",
      " [ 34.0836708  74.7972825]\n",
      " [ 23.7956531  86.4303859]\n",
      " [ 26.2389469  73.0243094]\n",
      " [ 31.6339793  74.8722642]\n",
      " [ 21.2513844  81.6296413]\n",
      " [ 25.4358011  81.846311 ]\n",
      " [ 11.0168445  76.9558321]\n",
      " [ 23.181467   79.9864071]\n",
      " [ 26.2182871  78.1828308]\n",
      " [ 16.5061743  80.6480153]\n",
      " [  9.9252007  78.1197754]\n",
      " [ 26.1445169  91.7362365]\n",
      " [ 30.7333148  76.7794179]\n",
      " [ 15.3647083  75.1239547]\n",
      " [ 28.9043537  78.4673426]\n",
      " [ 28.8386481  78.7733286]\n",
      " [ 28.4594965  77.0266383]\n",
      " [ 27.8973944  78.0880129]\n",
      " [ 17.6599188  75.9063906]\n",
      " [ 23.3440997  85.309562 ]\n",
      " [ 31.3260152  75.5761829]\n",
      " [ 10.7904833  78.7046725]\n",
      " [ 20.2960587  85.8245398]\n",
      " [ 11.664325   78.1460142]\n",
      " [ 17.9689008  79.5940544]\n",
      " [ 19.2952325  72.8543897]\n",
      " [  8.5241391  76.9366376]\n",
      " [ 19.2812547  73.0482912]\n",
      " [ 29.967079   77.5510172]\n",
      " [ 16.3066525  80.4365402]\n",
      " [ 20.9374238  77.7795513]\n",
      " [ 28.0229348  73.3119159]\n",
      " [ 28.5355161  77.3910265]\n",
      " [ 22.8045665  86.2028754]\n",
      " [ 21.1938475  81.3509416]\n",
      " [ 20.462521   85.8829895]\n",
      " [  9.9312328  76.2673041]\n",
      " [ 24.585445   73.712479 ]\n",
      " [ 21.7644725  72.1519304]\n",
      " [ 30.3164945  78.0321918]\n",
      " [ 23.6739452  86.9523954]\n",
      " [ 19.1428869  77.303723 ]\n",
      " [ 26.4498954  74.6399163]\n",
      " [ 22.4707019  70.05773  ]\n",
      " [ 23.1793013  75.7849097]\n",
      " [ 16.8523973  74.5814773]\n",
      " [ 28.7316438  77.3008506]\n",
      " [ 25.4484257  78.5684594]\n",
      " [ 11.9138598  79.8144722]\n",
      " [ 14.4425987  79.986456 ]\n",
      " [ 32.7266016  74.8570259]\n",
      " [ 15.8496953  74.4976741]\n",
      " [ 22.260423   84.8535844]\n",
      " [ 12.9141417  74.8559568]\n",
      " [  8.7139126  77.7566523]\n",
      " [ 20.5547497  74.5100291]\n",
      " [ 24.7954523  84.999431 ]\n",
      " [ 11.1085242  77.3410656]\n",
      " [ 14.4663438  75.9238397]\n",
      " [ 11.2587531  75.78041  ]\n",
      " [ 20.7059345  77.0219019]\n",
      " [ 15.8281257  78.0372792]\n",
      " [ 23.6692956  86.151112 ]\n",
      " [ 17.0005383  81.8040345]\n",
      " [ 15.1393932  76.9214428]\n",
      " [ 23.831457   91.2867777]\n",
      " [ 25.3478004  86.9824288]\n",
      " [ 18.4087934  76.5603828]\n",
      " [ 20.9042201  74.7748979]]\n"
     ]
    }
   ],
   "source": [
    "cities = np.array(cities)\n",
    "print cities"
   ]
  },
  {
   "cell_type": "code",
   "execution_count": 19,
   "metadata": {},
   "outputs": [
    {
     "name": "stdout",
     "output_type": "stream",
     "text": [
      "[40.375000000002785, 182.68299999999545, 74.806666666667866, 183.34999999999741, 61.663333333330911, 70.123333333332766, 121.16560406774283, 64.140000000003511, 103.9300000000012, 100.45430890166827, 164.4333333333343, 166.36000000000513, 84.389999999998963, 148.85000000000264, 125.51277153301044, 64.260000000006585, 139.3094807938387, 45.880000000001701, 130.41542105728934, 91.476546105905982, 0.0, 135.64085575413969, 57.808440642437745, 81.412998403242455, 68.630000000008977, 161.04000000000087, 19.871714928747679, 326.35931087244899, 75.998522497566569, 70.696098289690326, 151.13000000000056, 0.0, 187.19785446541255, 95.800000000005184, 0.0, 96.767032604892847, 149.19280407746601, 85.759472860765413, 127.04503998208793, 77.60040452598696, 42.855353984331487, 83.217252753750586, 62.35823275832422, 33.531877575256658, 0.0, 357.33115707251181, 345.18738851705893, 124.34000000000378, 150.1950185297037, 38.830000000003906, 211.86689779321705, 0.0, 93.589759839066119, 111.56589994615365, 93.411814225609419, 61.040705955837893, 62.604238291410866, 58.544843389813536, 74.491026970821622, 300.66156000052797, 40.834343818525667, 104.10118759185571, 0.0, 199.20546594133521, 182.20021033114926, 91.38257296330039, 116.00454075198013, 65.267146342077012, 190.81987549332325, 145.23791429675958, 296.01802162983222, 168.75810629947227, 96.314743565137178, 175.85230010340729, 105.66833770188646, 146.7351337830969, 0.0, 223.65609449204931, 118.24972498148963, 93.324716436340623, 24.62463426594195, 0.0, 0.0, 179.13572501496992, 24.782626922017016, 66.408766937954624, 23.497116274708937, 196.21999999999798, 90.498252199329954, 18.363223333721294, 65.247879823449466, 113.12546945212534, 27.448249369503628, 196.63063286250144, 42.884146761506827, 19.454449616872466, 73.891775749062163, 131.69568723484417, 77.284586240616932, 25.051854479924714]\n"
     ]
    }
   ],
   "source": [
    "aq = rbfi(cities[:, 0], cities[:, 1])\n",
    "aq = map(lambda x: x if x > 0.0 else 0.0, aq)\n",
    "print aq"
   ]
  },
  {
   "cell_type": "code",
   "execution_count": 20,
   "metadata": {},
   "outputs": [
    {
     "data": {
      "application/vnd.jupyter.widget-view+json": {
       "model_id": "3c5d685d177544daa69f691fc5b8aac6",
       "version_major": 2,
       "version_minor": 0
      },
      "text/plain": [
       "A Jupyter Widget"
      ]
     },
     "metadata": {},
     "output_type": "display_data"
    }
   ],
   "source": [
    "fig = gmaps.figure(center=india_coordinates, zoom_level=4)\n",
    "\n",
    "info_box_template = \"\"\"\n",
    "<div>\n",
    "<p><b>City:</b> {0}</p>\n",
    "<p><b>PM2.5:</b> {1:.2f}</p>\n",
    "</div>\n",
    "\"\"\"\n",
    "city_info = [info_box_template.format(data[i], aq[i]) for i in range(0, len(data))]\n",
    "\n",
    "marker_layer = gmaps.marker_layer(cities, info_box_content=city_info)\n",
    "fig.add_layer(marker_layer)\n",
    "fig"
   ]
  },
  {
   "cell_type": "code",
   "execution_count": 21,
   "metadata": {
    "collapsed": true
   },
   "outputs": [],
   "source": [
    "embed_minimal_html('national-aq-interp.html', views=[fig])"
   ]
  },
  {
   "cell_type": "code",
   "execution_count": 22,
   "metadata": {
    "collapsed": true
   },
   "outputs": [],
   "source": [
    "delhi_coordinates = decode_address_to_coordinates(\"New Delhi\").values()"
   ]
  },
  {
   "cell_type": "code",
   "execution_count": 7,
   "metadata": {},
   "outputs": [
    {
     "name": "stdout",
     "output_type": "stream",
     "text": [
      "{'6': 'Dwarka', '58': 'Noida Sector 62', '46': 'Mandir Marg', '54': 'Anand Vihar', '45': 'R K Puram', '51': 'Gole Market', '53': 'Civil Lines', '52': 'IGI Airport', '1': 'MOBILE VAN', '55': 'East Arjun Nagar-Delhi CPCB', '3': 'DTU', '2': 'ITO', '5': 'Shadipur', '4': 'Sirifort', '7': 'IHBAS', '47': 'Punjabi Bagh'} [['5', '144.68'], ['3', '326.36'], ['47', '139.61'], ['4', '278.77'], ['7', '145.87'], ['45', '135.92'], ['2', '216.32'], ['46', '119.59'], ['6', '143.32'], ['54', '176.39']]\n"
     ]
    }
   ],
   "source": [
    "f = open('data/Delhi_Delhi.txt', 'r')\n",
    "delhi_data = f.readlines()\n",
    "delhi_data = filter(lambda elem: elem != \"\\n\", delhi_data)\n",
    "delhi_data = map(lambda elem: elem.split(\",\"), delhi_data)\n",
    "filtered_delhi_data = []\n",
    "station = -1\n",
    "for line in delhi_data:\n",
    "    if len(line) > 2 and \"station\" in line[2]:\n",
    "        station = line[2].split(\":\")[1].rstrip(\"\\n\")\n",
    "    if line[0] == \"2016\":\n",
    "        filtered_delhi_data.append([station, line[1].rstrip(\"\\n\")])\n",
    "\n",
    "delhi_data = filtered_delhi_data\n",
    "\n",
    "f = open('id-mappings/station-ids.txt', 'r')\n",
    "stations = f.readlines()\n",
    "stations = map(lambda elem: elem.split(\",\"), stations)\n",
    "stations = filter(lambda elem: elem[2] == \"85\" and elem[4].isdigit(), stations)\n",
    "stations = {station[4]:station[5].rstrip(\"\\n\") for station in stations}\n",
    "print stations, delhi_data"
   ]
  },
  {
   "cell_type": "code",
   "execution_count": 8,
   "metadata": {},
   "outputs": [
    {
     "name": "stdout",
     "output_type": "stream",
     "text": [
      "[[28.6515584, 77.15819359999999], [28.7500749, 77.11766519999999], [28.66197529999999, 77.1241557], [28.5511631, 77.2277579], [28.6809824, 77.3051949], [28.5660075, 77.1767435], [28.6308294, 77.2505733], [28.6597298, 77.2827525], [28.5921401, 77.0460481], [28.650218, 77.30270589999999]]\n"
     ]
    }
   ],
   "source": [
    "delhi_station_coordinates = []\n",
    "for station in delhi_data:\n",
    "    delhi_station_coordinates.append(decode_address_to_coordinates(\"{}, Delhi\".format(stations[station[0]])).values())\n",
    "    sleep(1)\n",
    "print delhi_station_coordinates"
   ]
  },
  {
   "cell_type": "code",
   "execution_count": 9,
   "metadata": {},
   "outputs": [
    {
     "name": "stdout",
     "output_type": "stream",
     "text": [
      "[['5', '144.68'], ['3', '326.36'], ['47', '139.61'], ['4', '278.77'], ['7', '145.87'], ['45', '135.92'], ['2', '216.32'], ['46', '119.59'], ['6', '143.32'], ['54', '176.39']]\n"
     ]
    },
    {
     "data": {
      "application/vnd.jupyter.widget-view+json": {
       "model_id": "526dc007c05a432d9cbbde4896872dc5",
       "version_major": 2,
       "version_minor": 0
      },
      "text/plain": [
       "A Jupyter Widget"
      ]
     },
     "metadata": {},
     "output_type": "display_data"
    }
   ],
   "source": [
    "delhi_coordinates = decode_address_to_coordinates(\"New Delhi, Delhi\").values()\n",
    "fig = gmaps.figure(center=delhi_coordinates, zoom_level=11)\n",
    "weights = np.array(delhi_data)[:, 1]\n",
    "heatmap_layer = gmaps.heatmap_layer(delhi_station_coordinates, weights=weights)\n",
    "heatmap_layer.max_intensity = 200\n",
    "heatmap_layer.point_radius = 35.0\n",
    "\n",
    "fig.add_layer(heatmap_layer)\n",
    "\n",
    "info_box_template = \"\"\"\n",
    "<div>\n",
    "<p><b>Station:</b> {0}</p>\n",
    "<p><b>PM2.5:</b> {1}</p>\n",
    "</div>\n",
    "\"\"\"\n",
    "print delhi_data\n",
    "station_info = [info_box_template.format(stations[d[0]], d[1]) for d in delhi_data]\n",
    "\n",
    "marker_layer = gmaps.marker_layer(delhi_station_coordinates, info_box_content=station_info)\n",
    "fig.add_layer(marker_layer)\n",
    "\n",
    "fig"
   ]
  },
  {
   "cell_type": "code",
   "execution_count": 10,
   "metadata": {
    "collapsed": true
   },
   "outputs": [],
   "source": [
    "embed_minimal_html('delhi-aq-pm25.html', views=[fig])"
   ]
  },
  {
   "cell_type": "code",
   "execution_count": null,
   "metadata": {
    "collapsed": true
   },
   "outputs": [],
   "source": []
  }
 ],
 "metadata": {
  "kernelspec": {
   "display_name": "Python 3",
   "language": "python",
   "name": "python3"
  },
  "language_info": {
   "codemirror_mode": {
    "name": "ipython",
    "version": 3
   },
   "file_extension": ".py",
   "mimetype": "text/x-python",
   "name": "python",
   "nbconvert_exporter": "python",
   "pygments_lexer": "ipython3",
   "version": "3.8.2"
  }
 },
 "nbformat": 4,
 "nbformat_minor": 1
}
