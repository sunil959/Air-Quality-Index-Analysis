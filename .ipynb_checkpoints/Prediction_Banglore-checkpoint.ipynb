{
 "cells": [
  {
   "cell_type": "code",
   "execution_count": 112,
   "metadata": {},
   "outputs": [],
   "source": [
    "from sklearn.ensemble import RandomForestRegressor\n",
    "import seaborn as sns"
   ]
  },
  {
   "cell_type": "code",
   "execution_count": 113,
   "metadata": {},
   "outputs": [],
   "source": [
    "from sklearn.metrics import roc_auc_score"
   ]
  },
  {
   "cell_type": "code",
   "execution_count": 114,
   "metadata": {},
   "outputs": [],
   "source": [
    "import pandas as pd\n",
    "import warnings\n",
    "import matplotlib.pyplot as plt\n",
    "warnings.filterwarnings('ignore')\n",
    "\n",
    "data = pd.read_csv(\"./DataSet/Banglore/Banglore.csv\", parse_dates= [\"Date\"])\n",
    "data.set_index (\"Date\", inplace = True)\n",
    "#data.sort_index(inplace = True)\n",
    "#y = data.pop(\"Value\")"
   ]
  },
  {
   "cell_type": "code",
   "execution_count": 115,
   "metadata": {},
   "outputs": [
    {
     "data": {
      "text/html": [
       "<div>\n",
       "<style scoped>\n",
       "    .dataframe tbody tr th:only-of-type {\n",
       "        vertical-align: middle;\n",
       "    }\n",
       "\n",
       "    .dataframe tbody tr th {\n",
       "        vertical-align: top;\n",
       "    }\n",
       "\n",
       "    .dataframe thead th {\n",
       "        text-align: right;\n",
       "    }\n",
       "</style>\n",
       "<table border=\"1\" class=\"dataframe\">\n",
       "  <thead>\n",
       "    <tr style=\"text-align: right;\">\n",
       "      <th></th>\n",
       "      <th>Country</th>\n",
       "      <th>City</th>\n",
       "      <th>Specie</th>\n",
       "      <th>Value</th>\n",
       "    </tr>\n",
       "    <tr>\n",
       "      <th>Date</th>\n",
       "      <th></th>\n",
       "      <th></th>\n",
       "      <th></th>\n",
       "      <th></th>\n",
       "    </tr>\n",
       "  </thead>\n",
       "  <tbody>\n",
       "    <tr>\n",
       "      <th>2016-01-03</th>\n",
       "      <td>IN</td>\n",
       "      <td>Bengaluru</td>\n",
       "      <td>pm10</td>\n",
       "      <td>81.3</td>\n",
       "    </tr>\n",
       "    <tr>\n",
       "      <th>2016-01-03</th>\n",
       "      <td>IN</td>\n",
       "      <td>Bengaluru</td>\n",
       "      <td>o3</td>\n",
       "      <td>20.0</td>\n",
       "    </tr>\n",
       "    <tr>\n",
       "      <th>2016-01-03</th>\n",
       "      <td>IN</td>\n",
       "      <td>Bengaluru</td>\n",
       "      <td>so2</td>\n",
       "      <td>4.3</td>\n",
       "    </tr>\n",
       "    <tr>\n",
       "      <th>2016-01-03</th>\n",
       "      <td>IN</td>\n",
       "      <td>Bengaluru</td>\n",
       "      <td>pm25</td>\n",
       "      <td>120.3</td>\n",
       "    </tr>\n",
       "    <tr>\n",
       "      <th>2016-01-03</th>\n",
       "      <td>IN</td>\n",
       "      <td>Bengaluru</td>\n",
       "      <td>no2</td>\n",
       "      <td>42.8</td>\n",
       "    </tr>\n",
       "  </tbody>\n",
       "</table>\n",
       "</div>"
      ],
      "text/plain": [
       "           Country       City Specie  Value\n",
       "Date                                       \n",
       "2016-01-03      IN  Bengaluru   pm10   81.3\n",
       "2016-01-03      IN  Bengaluru     o3   20.0\n",
       "2016-01-03      IN  Bengaluru    so2    4.3\n",
       "2016-01-03      IN  Bengaluru   pm25  120.3\n",
       "2016-01-03      IN  Bengaluru    no2   42.8"
      ]
     },
     "execution_count": 115,
     "metadata": {},
     "output_type": "execute_result"
    }
   ],
   "source": [
    "data.head()"
   ]
  },
  {
   "cell_type": "code",
   "execution_count": 116,
   "metadata": {},
   "outputs": [
    {
     "data": {
      "text/plain": [
       "Country    0\n",
       "City       0\n",
       "Specie     0\n",
       "Value      0\n",
       "dtype: int64"
      ]
     },
     "execution_count": 116,
     "metadata": {},
     "output_type": "execute_result"
    }
   ],
   "source": [
    "#numeric_variables=list(X.dtypes[X.dtypes != \"object\"].index)\n",
    "#X[numeric_variables].head()\n",
    "#No Null Data\n",
    "data.isna().sum()"
   ]
  },
  {
   "cell_type": "code",
   "execution_count": 117,
   "metadata": {},
   "outputs": [
    {
     "data": {
      "text/html": [
       "<div>\n",
       "<style scoped>\n",
       "    .dataframe tbody tr th:only-of-type {\n",
       "        vertical-align: middle;\n",
       "    }\n",
       "\n",
       "    .dataframe tbody tr th {\n",
       "        vertical-align: top;\n",
       "    }\n",
       "\n",
       "    .dataframe thead th {\n",
       "        text-align: right;\n",
       "    }\n",
       "</style>\n",
       "<table border=\"1\" class=\"dataframe\">\n",
       "  <thead>\n",
       "    <tr style=\"text-align: right;\">\n",
       "      <th></th>\n",
       "      <th>PM10</th>\n",
       "      <th>PM10index</th>\n",
       "    </tr>\n",
       "    <tr>\n",
       "      <th>Date</th>\n",
       "      <th></th>\n",
       "      <th></th>\n",
       "    </tr>\n",
       "  </thead>\n",
       "  <tbody>\n",
       "    <tr>\n",
       "      <th>2016-01-03</th>\n",
       "      <td>81.3</td>\n",
       "      <td>81.3</td>\n",
       "    </tr>\n",
       "    <tr>\n",
       "      <th>2016-01-04</th>\n",
       "      <td>79.3</td>\n",
       "      <td>79.3</td>\n",
       "    </tr>\n",
       "    <tr>\n",
       "      <th>2016-01-05</th>\n",
       "      <td>83.0</td>\n",
       "      <td>83.0</td>\n",
       "    </tr>\n",
       "    <tr>\n",
       "      <th>2016-01-06</th>\n",
       "      <td>69.7</td>\n",
       "      <td>69.7</td>\n",
       "    </tr>\n",
       "    <tr>\n",
       "      <th>2016-01-07</th>\n",
       "      <td>55.3</td>\n",
       "      <td>55.3</td>\n",
       "    </tr>\n",
       "  </tbody>\n",
       "</table>\n",
       "</div>"
      ],
      "text/plain": [
       "            PM10  PM10index\n",
       "Date                       \n",
       "2016-01-03  81.3       81.3\n",
       "2016-01-04  79.3       79.3\n",
       "2016-01-05  83.0       83.0\n",
       "2016-01-06  69.7       69.7\n",
       "2016-01-07  55.3       55.3"
      ]
     },
     "execution_count": 117,
     "metadata": {},
     "output_type": "execute_result"
    }
   ],
   "source": [
    "def cal_PM10index(pm10):\n",
    "    pm10i=0\n",
    "    if (pm10<=50):\n",
    "        pm10i= pm10*(50/50)\n",
    "    elif (pm10>50 and pm10<=100):\n",
    "        pm10i= 50+(pm10-50)*(50/50)\n",
    "    elif (pm10>100 and pm10<=200):\n",
    "        pm10i= 100+(pm10-100)*(100/100)\n",
    "    elif (pm10>200 and pm10<=300):\n",
    "        pm10i= 200+(pm10-200)*(100/100)\n",
    "    elif (pm10>300 and pm10<=400):\n",
    "        pm10i= 300+(pm10-300)*(100/100)\n",
    "    elif (pm10>400 and pm10<=500):\n",
    "        pm10i= 400+(pm10-400)*(100/100)\n",
    "    return pm10i\n",
    "\n",
    "datapm10 = data.loc[lambda data: data['Specie'] == 'pm10']\n",
    "datapm10['PM10index'] = datapm10['Value'].apply(cal_PM10index)\n",
    "data_pm10 = datapm10[[ 'Value', 'PM10index']]\n",
    "\n",
    "data_pm10.rename(columns = {'Value':'PM10'}, inplace = True) \n",
    "data_pm10.head()\n",
    "#ix = pd.DatetimeIndex(start=Date(2016, 1, 1), end=Date(2016, 1, 31), freq='D')\n",
    "#df2.reindex(ix)"
   ]
  },
  {
   "cell_type": "code",
   "execution_count": 118,
   "metadata": {},
   "outputs": [
    {
     "data": {
      "text/html": [
       "<div>\n",
       "<style scoped>\n",
       "    .dataframe tbody tr th:only-of-type {\n",
       "        vertical-align: middle;\n",
       "    }\n",
       "\n",
       "    .dataframe tbody tr th {\n",
       "        vertical-align: top;\n",
       "    }\n",
       "\n",
       "    .dataframe thead th {\n",
       "        text-align: right;\n",
       "    }\n",
       "</style>\n",
       "<table border=\"1\" class=\"dataframe\">\n",
       "  <thead>\n",
       "    <tr style=\"text-align: right;\">\n",
       "      <th></th>\n",
       "      <th>PM25</th>\n",
       "      <th>PM25index</th>\n",
       "    </tr>\n",
       "    <tr>\n",
       "      <th>Date</th>\n",
       "      <th></th>\n",
       "      <th></th>\n",
       "    </tr>\n",
       "  </thead>\n",
       "  <tbody>\n",
       "    <tr>\n",
       "      <th>2016-01-03</th>\n",
       "      <td>120.3</td>\n",
       "      <td>300.230769</td>\n",
       "    </tr>\n",
       "    <tr>\n",
       "      <th>2016-01-04</th>\n",
       "      <td>124.3</td>\n",
       "      <td>303.307692</td>\n",
       "    </tr>\n",
       "    <tr>\n",
       "      <th>2016-01-05</th>\n",
       "      <td>136.7</td>\n",
       "      <td>312.846154</td>\n",
       "    </tr>\n",
       "    <tr>\n",
       "      <th>2016-01-06</th>\n",
       "      <td>133.0</td>\n",
       "      <td>310.000000</td>\n",
       "    </tr>\n",
       "    <tr>\n",
       "      <th>2016-01-07</th>\n",
       "      <td>136.3</td>\n",
       "      <td>312.538462</td>\n",
       "    </tr>\n",
       "  </tbody>\n",
       "</table>\n",
       "</div>"
      ],
      "text/plain": [
       "             PM25   PM25index\n",
       "Date                         \n",
       "2016-01-03  120.3  300.230769\n",
       "2016-01-04  124.3  303.307692\n",
       "2016-01-05  136.7  312.846154\n",
       "2016-01-06  133.0  310.000000\n",
       "2016-01-07  136.3  312.538462"
      ]
     },
     "execution_count": 118,
     "metadata": {},
     "output_type": "execute_result"
    }
   ],
   "source": [
    "def cal_PM25index(pm25):\n",
    "    pm25i=0\n",
    "    if (pm25<=30):\n",
    "        pm25i= pm25*(50/30)\n",
    "    elif (pm25>30 and pm25<=60):\n",
    "        pm25i= 50+(pm25-30)*(50/30)\n",
    "    elif (pm25>60 and pm25<=90):\n",
    "        pm25i= 100+(pm25-60)*(100/30)\n",
    "    elif (pm25>90 and pm25<=120):\n",
    "        pm25i= 200+(pm25-90)*(100/30)\n",
    "    elif (pm25>120 and pm25<=250):\n",
    "        pm25i= 300+(pm25-120)*(100/130)\n",
    "    elif (pm25>250):\n",
    "        pm25i= 400+(pm25-250)*(100/130)\n",
    "    return pm25i\n",
    "\n",
    "datapm25 = data.loc[lambda data: data['Specie'] == 'pm25']\n",
    "datapm25['PM25index'] = datapm25['Value'].apply(cal_PM25index)\n",
    "data_pm25 = datapm25[[ 'Value', 'PM25index']]\n",
    "\n",
    "data_pm25.rename(columns = {'Value':'PM25'}, inplace = True) \n",
    "data_pm25.head()\n"
   ]
  },
  {
   "cell_type": "code",
   "execution_count": 119,
   "metadata": {
    "scrolled": false
   },
   "outputs": [
    {
     "data": {
      "text/html": [
       "<div>\n",
       "<style scoped>\n",
       "    .dataframe tbody tr th:only-of-type {\n",
       "        vertical-align: middle;\n",
       "    }\n",
       "\n",
       "    .dataframe tbody tr th {\n",
       "        vertical-align: top;\n",
       "    }\n",
       "\n",
       "    .dataframe thead th {\n",
       "        text-align: right;\n",
       "    }\n",
       "</style>\n",
       "<table border=\"1\" class=\"dataframe\">\n",
       "  <thead>\n",
       "    <tr style=\"text-align: right;\">\n",
       "      <th></th>\n",
       "      <th>SO2</th>\n",
       "      <th>SO2index</th>\n",
       "    </tr>\n",
       "    <tr>\n",
       "      <th>Date</th>\n",
       "      <th></th>\n",
       "      <th></th>\n",
       "    </tr>\n",
       "  </thead>\n",
       "  <tbody>\n",
       "    <tr>\n",
       "      <th>2016-01-03</th>\n",
       "      <td>4.3</td>\n",
       "      <td>5.375</td>\n",
       "    </tr>\n",
       "    <tr>\n",
       "      <th>2016-01-04</th>\n",
       "      <td>4.5</td>\n",
       "      <td>5.625</td>\n",
       "    </tr>\n",
       "    <tr>\n",
       "      <th>2016-01-05</th>\n",
       "      <td>5.1</td>\n",
       "      <td>6.375</td>\n",
       "    </tr>\n",
       "    <tr>\n",
       "      <th>2016-01-06</th>\n",
       "      <td>12.7</td>\n",
       "      <td>15.875</td>\n",
       "    </tr>\n",
       "    <tr>\n",
       "      <th>2016-01-07</th>\n",
       "      <td>18.2</td>\n",
       "      <td>22.750</td>\n",
       "    </tr>\n",
       "  </tbody>\n",
       "</table>\n",
       "</div>"
      ],
      "text/plain": [
       "             SO2  SO2index\n",
       "Date                      \n",
       "2016-01-03   4.3     5.375\n",
       "2016-01-04   4.5     5.625\n",
       "2016-01-05   5.1     6.375\n",
       "2016-01-06  12.7    15.875\n",
       "2016-01-07  18.2    22.750"
      ]
     },
     "execution_count": 119,
     "metadata": {},
     "output_type": "execute_result"
    }
   ],
   "source": [
    "def cal_SOindex(so2):\n",
    "    si=0\n",
    "    if (so2<=40):\n",
    "        si= so2*(50/40)\n",
    "    elif (so2>40 and so2<=80):\n",
    "        si= 50+(so2-40)*(50/40)\n",
    "    elif (so2>80 and so2<=380):\n",
    "        si= 100+(so2-80)*(100/300)\n",
    "    elif (so2>380 and so2<=800):\n",
    "        si= 200+(so2-380)*(100/420)\n",
    "    elif (so2>800 and so2<=1600):\n",
    "        si= 300+(so2-800)*(100/800)\n",
    "    elif (so2>1600):\n",
    "        si= 400+(so2-1600)*(100/800)\n",
    "    return si\n",
    "\n",
    "dataso2 = data.loc[lambda data: data['Specie'] == 'so2']\n",
    "dataso2['SO2index'] = dataso2['Value'].apply(cal_SOindex)\n",
    "data_so2 = dataso2[[ 'Value', 'SO2index']]\n",
    "\n",
    "data_so2.rename(columns = {'Value':'SO2'}, inplace = True) \n",
    "data_so2.head()"
   ]
  },
  {
   "cell_type": "code",
   "execution_count": 120,
   "metadata": {},
   "outputs": [
    {
     "data": {
      "text/html": [
       "<div>\n",
       "<style scoped>\n",
       "    .dataframe tbody tr th:only-of-type {\n",
       "        vertical-align: middle;\n",
       "    }\n",
       "\n",
       "    .dataframe tbody tr th {\n",
       "        vertical-align: top;\n",
       "    }\n",
       "\n",
       "    .dataframe thead th {\n",
       "        text-align: right;\n",
       "    }\n",
       "</style>\n",
       "<table border=\"1\" class=\"dataframe\">\n",
       "  <thead>\n",
       "    <tr style=\"text-align: right;\">\n",
       "      <th></th>\n",
       "      <th>NO2</th>\n",
       "      <th>NO2index</th>\n",
       "    </tr>\n",
       "    <tr>\n",
       "      <th>Date</th>\n",
       "      <th></th>\n",
       "      <th></th>\n",
       "    </tr>\n",
       "  </thead>\n",
       "  <tbody>\n",
       "    <tr>\n",
       "      <th>2016-01-03</th>\n",
       "      <td>42.8</td>\n",
       "      <td>53.500</td>\n",
       "    </tr>\n",
       "    <tr>\n",
       "      <th>2016-01-04</th>\n",
       "      <td>39.1</td>\n",
       "      <td>48.875</td>\n",
       "    </tr>\n",
       "    <tr>\n",
       "      <th>2016-01-05</th>\n",
       "      <td>42.3</td>\n",
       "      <td>52.875</td>\n",
       "    </tr>\n",
       "    <tr>\n",
       "      <th>2016-01-06</th>\n",
       "      <td>34.9</td>\n",
       "      <td>43.625</td>\n",
       "    </tr>\n",
       "    <tr>\n",
       "      <th>2016-01-07</th>\n",
       "      <td>24.9</td>\n",
       "      <td>31.125</td>\n",
       "    </tr>\n",
       "  </tbody>\n",
       "</table>\n",
       "</div>"
      ],
      "text/plain": [
       "             NO2  NO2index\n",
       "Date                      \n",
       "2016-01-03  42.8    53.500\n",
       "2016-01-04  39.1    48.875\n",
       "2016-01-05  42.3    52.875\n",
       "2016-01-06  34.9    43.625\n",
       "2016-01-07  24.9    31.125"
      ]
     },
     "execution_count": 120,
     "metadata": {},
     "output_type": "execute_result"
    }
   ],
   "source": [
    "def cal_No2index(no2):\n",
    "    ni=0\n",
    "    if(no2<=40):\n",
    "        ni= no2*50/40\n",
    "    elif(no2>40 and no2<=80):\n",
    "        ni= 50+(no2-40)*(50/40)\n",
    "    elif(no2>80 and no2<=180):\n",
    "        ni= 100+(no2-80)*(100/100)\n",
    "    elif(no2>180 and no2<=280):\n",
    "        ni= 200+(no2-180)*(100/100)\n",
    "    elif(no2>280 and no2<=400):\n",
    "        ni= 300+(no2-280)*(100/120)\n",
    "    else:\n",
    "        ni= 400+(no2-400)*(100/120)\n",
    "    return ni\n",
    "\n",
    "datano2 = data.loc[lambda data: data['Specie'] == 'no2']\n",
    "datano2['NO2index'] = datano2['Value'].apply(cal_No2index)\n",
    "data_no2 = datano2[[ 'Value', 'NO2index']]\n",
    "\n",
    "data_no2.rename(columns = {'Value':'NO2'}, inplace = True) \n",
    "data_no2.head()"
   ]
  },
  {
   "cell_type": "code",
   "execution_count": 121,
   "metadata": {},
   "outputs": [
    {
     "data": {
      "text/html": [
       "<div>\n",
       "<style scoped>\n",
       "    .dataframe tbody tr th:only-of-type {\n",
       "        vertical-align: middle;\n",
       "    }\n",
       "\n",
       "    .dataframe tbody tr th {\n",
       "        vertical-align: top;\n",
       "    }\n",
       "\n",
       "    .dataframe thead th {\n",
       "        text-align: right;\n",
       "    }\n",
       "</style>\n",
       "<table border=\"1\" class=\"dataframe\">\n",
       "  <thead>\n",
       "    <tr style=\"text-align: right;\">\n",
       "      <th></th>\n",
       "      <th>O3</th>\n",
       "      <th>O3index</th>\n",
       "    </tr>\n",
       "    <tr>\n",
       "      <th>Date</th>\n",
       "      <th></th>\n",
       "      <th></th>\n",
       "    </tr>\n",
       "  </thead>\n",
       "  <tbody>\n",
       "    <tr>\n",
       "      <th>2016-01-03</th>\n",
       "      <td>20.0</td>\n",
       "      <td>20.0</td>\n",
       "    </tr>\n",
       "    <tr>\n",
       "      <th>2016-01-04</th>\n",
       "      <td>19.9</td>\n",
       "      <td>19.9</td>\n",
       "    </tr>\n",
       "    <tr>\n",
       "      <th>2016-01-05</th>\n",
       "      <td>17.4</td>\n",
       "      <td>17.4</td>\n",
       "    </tr>\n",
       "    <tr>\n",
       "      <th>2016-01-06</th>\n",
       "      <td>17.7</td>\n",
       "      <td>17.7</td>\n",
       "    </tr>\n",
       "    <tr>\n",
       "      <th>2016-01-07</th>\n",
       "      <td>13.3</td>\n",
       "      <td>13.3</td>\n",
       "    </tr>\n",
       "  </tbody>\n",
       "</table>\n",
       "</div>"
      ],
      "text/plain": [
       "              O3  O3index\n",
       "Date                     \n",
       "2016-01-03  20.0     20.0\n",
       "2016-01-04  19.9     19.9\n",
       "2016-01-05  17.4     17.4\n",
       "2016-01-06  17.7     17.7\n",
       "2016-01-07  13.3     13.3"
      ]
     },
     "execution_count": 121,
     "metadata": {},
     "output_type": "execute_result"
    }
   ],
   "source": [
    "def cal_O3index(o3):\n",
    "    o3i=0\n",
    "    if (o3<=50):\n",
    "        o3i= o3*(50/50)\n",
    "    elif (o3>50 and o3<=100):\n",
    "        o3i= 50+(o3-50)*(50/50)\n",
    "    elif (o3>100 and o3<=200):\n",
    "        o3i= 100+(o3-100)*(100/100)\n",
    "    elif (o3>200 and o3<=300):\n",
    "        o3i= 200+(o3-200)*(100/100)\n",
    "    elif (o3>300 and o3<=400):\n",
    "        o3i= 300+(o3-300)*(100/100)\n",
    "    elif (o3>400 and o3<=500):\n",
    "        o3i= 400+(o3-400)*(100/100)\n",
    "    return o3i\n",
    "\n",
    "datao3 = data.loc[lambda data: data['Specie'] == 'o3']\n",
    "datao3['O3index'] = datao3['Value'].apply(cal_O3index)\n",
    "data_o3 = datao3[[ 'Value', 'O3index']]\n",
    "\n",
    "data_o3.rename(columns = {'Value':'O3'}, inplace = True) \n",
    "data_o3.head()\n"
   ]
  },
  {
   "cell_type": "code",
   "execution_count": 122,
   "metadata": {},
   "outputs": [
    {
     "data": {
      "text/html": [
       "<div>\n",
       "<style scoped>\n",
       "    .dataframe tbody tr th:only-of-type {\n",
       "        vertical-align: middle;\n",
       "    }\n",
       "\n",
       "    .dataframe tbody tr th {\n",
       "        vertical-align: top;\n",
       "    }\n",
       "\n",
       "    .dataframe thead th {\n",
       "        text-align: right;\n",
       "    }\n",
       "</style>\n",
       "<table border=\"1\" class=\"dataframe\">\n",
       "  <thead>\n",
       "    <tr style=\"text-align: right;\">\n",
       "      <th></th>\n",
       "      <th>CO</th>\n",
       "      <th>COindex</th>\n",
       "    </tr>\n",
       "    <tr>\n",
       "      <th>Date</th>\n",
       "      <th></th>\n",
       "      <th></th>\n",
       "    </tr>\n",
       "  </thead>\n",
       "  <tbody>\n",
       "    <tr>\n",
       "      <th>2016-01-03</th>\n",
       "      <td>14.4</td>\n",
       "      <td>262.857143</td>\n",
       "    </tr>\n",
       "    <tr>\n",
       "      <th>2016-01-04</th>\n",
       "      <td>12.4</td>\n",
       "      <td>234.285714</td>\n",
       "    </tr>\n",
       "    <tr>\n",
       "      <th>2016-01-05</th>\n",
       "      <td>14.6</td>\n",
       "      <td>265.714286</td>\n",
       "    </tr>\n",
       "    <tr>\n",
       "      <th>2016-01-06</th>\n",
       "      <td>10.7</td>\n",
       "      <td>210.000000</td>\n",
       "    </tr>\n",
       "    <tr>\n",
       "      <th>2016-01-07</th>\n",
       "      <td>12.6</td>\n",
       "      <td>237.142857</td>\n",
       "    </tr>\n",
       "  </tbody>\n",
       "</table>\n",
       "</div>"
      ],
      "text/plain": [
       "              CO     COindex\n",
       "Date                        \n",
       "2016-01-03  14.4  262.857143\n",
       "2016-01-04  12.4  234.285714\n",
       "2016-01-05  14.6  265.714286\n",
       "2016-01-06  10.7  210.000000\n",
       "2016-01-07  12.6  237.142857"
      ]
     },
     "execution_count": 122,
     "metadata": {},
     "output_type": "execute_result"
    }
   ],
   "source": [
    "def cal_COindex(co):\n",
    "    coi=0\n",
    "    if (co<=1.0):\n",
    "        coi= co*(50/50)\n",
    "    elif (co>1.0 and co<=2.0):\n",
    "        coi= 50+(co-1.0)*(50/1.0)\n",
    "    elif (co>2.0 and co<=10.0):\n",
    "        coi= 100+(co-2.0)*(100/8.0)\n",
    "    elif (co>10.0 and co<=17.0):\n",
    "        coi= 200+(co-10.0)*(100/7.0)\n",
    "    elif (co>17.0 and co<=34.0):\n",
    "        coi= 300+(co-17.0)*(100/17.0)\n",
    "    elif (co>34.0):\n",
    "        coi= 400+(co-34.0)*(100/17.0)\n",
    "    return coi\n",
    "\n",
    "dataco = data.loc[lambda data: data['Specie'] == 'co']\n",
    "dataco['COindex'] = dataco['Value'].apply(cal_COindex)\n",
    "data_co = dataco[[ 'Value', 'COindex']]\n",
    "\n",
    "data_co.rename(columns = {'Value':'CO'}, inplace = True) \n",
    "data_co.head()\n"
   ]
  },
  {
   "cell_type": "code",
   "execution_count": 123,
   "metadata": {},
   "outputs": [
    {
     "data": {
      "text/plain": [
       "PM10         0\n",
       "PM10index    0\n",
       "PM25         0\n",
       "PM25index    0\n",
       "SO2          0\n",
       "SO2index     0\n",
       "NO2          0\n",
       "NO2index     0\n",
       "O3           0\n",
       "O3index      0\n",
       "CO           0\n",
       "COindex      0\n",
       "dtype: int64"
      ]
     },
     "execution_count": 123,
     "metadata": {},
     "output_type": "execute_result"
    }
   ],
   "source": [
    "#Merging all the parameters into one DataFrame\n",
    "frame1 = data_pm10.merge(data_pm25, on = \"Date\", how = 'outer', sort =True)\n",
    "frame2 = data_so2.merge(data_no2, on = \"Date\", how = 'outer', sort =True)\n",
    "frame3 = data_o3.merge(data_co, on = \"Date\", how = 'outer', sort =True)\n",
    "\n",
    "frame4 = frame1.merge(frame2, on = \"Date\", how = 'outer', sort =True)\n",
    "data_merge = frame4.merge(frame3, on = \"Date\", how = 'outer', sort =True)\n",
    "\n",
    "#data_merge.fillna()\n",
    "#df.isna().sum()\n",
    "data_merge.fillna(data_merge.mean(), inplace = True)\n",
    "#data_merge.describe()\n",
    "data_merge.isna().sum()\n",
    "#data_merge.to_csv(\"./DataSet/test123.csv\")"
   ]
  },
  {
   "cell_type": "code",
   "execution_count": 124,
   "metadata": {},
   "outputs": [
    {
     "data": {
      "text/html": [
       "<div>\n",
       "<style scoped>\n",
       "    .dataframe tbody tr th:only-of-type {\n",
       "        vertical-align: middle;\n",
       "    }\n",
       "\n",
       "    .dataframe tbody tr th {\n",
       "        vertical-align: top;\n",
       "    }\n",
       "\n",
       "    .dataframe thead th {\n",
       "        text-align: right;\n",
       "    }\n",
       "</style>\n",
       "<table border=\"1\" class=\"dataframe\">\n",
       "  <thead>\n",
       "    <tr style=\"text-align: right;\">\n",
       "      <th></th>\n",
       "      <th>PM10index</th>\n",
       "      <th>PM25index</th>\n",
       "      <th>SO2index</th>\n",
       "      <th>NO2index</th>\n",
       "      <th>O3index</th>\n",
       "      <th>COindex</th>\n",
       "      <th>AQI</th>\n",
       "    </tr>\n",
       "    <tr>\n",
       "      <th>Date</th>\n",
       "      <th></th>\n",
       "      <th></th>\n",
       "      <th></th>\n",
       "      <th></th>\n",
       "      <th></th>\n",
       "      <th></th>\n",
       "      <th></th>\n",
       "    </tr>\n",
       "  </thead>\n",
       "  <tbody>\n",
       "    <tr>\n",
       "      <th>2020-05-16</th>\n",
       "      <td>72.0</td>\n",
       "      <td>231.000000</td>\n",
       "      <td>7.125</td>\n",
       "      <td>25.875</td>\n",
       "      <td>14.2</td>\n",
       "      <td>385.294118</td>\n",
       "      <td>385.294118</td>\n",
       "    </tr>\n",
       "    <tr>\n",
       "      <th>2020-05-17</th>\n",
       "      <td>78.0</td>\n",
       "      <td>130.000000</td>\n",
       "      <td>12.875</td>\n",
       "      <td>10.125</td>\n",
       "      <td>15.5</td>\n",
       "      <td>244.285714</td>\n",
       "      <td>244.285714</td>\n",
       "    </tr>\n",
       "    <tr>\n",
       "      <th>2020-05-18</th>\n",
       "      <td>78.0</td>\n",
       "      <td>124.333333</td>\n",
       "      <td>7.750</td>\n",
       "      <td>12.000</td>\n",
       "      <td>15.9</td>\n",
       "      <td>344.705882</td>\n",
       "      <td>344.705882</td>\n",
       "    </tr>\n",
       "    <tr>\n",
       "      <th>2020-05-19</th>\n",
       "      <td>75.3</td>\n",
       "      <td>240.000000</td>\n",
       "      <td>6.375</td>\n",
       "      <td>11.125</td>\n",
       "      <td>12.3</td>\n",
       "      <td>304.117647</td>\n",
       "      <td>304.117647</td>\n",
       "    </tr>\n",
       "    <tr>\n",
       "      <th>2020-05-20</th>\n",
       "      <td>54.7</td>\n",
       "      <td>106.666667</td>\n",
       "      <td>6.000</td>\n",
       "      <td>7.625</td>\n",
       "      <td>9.8</td>\n",
       "      <td>303.529412</td>\n",
       "      <td>303.529412</td>\n",
       "    </tr>\n",
       "  </tbody>\n",
       "</table>\n",
       "</div>"
      ],
      "text/plain": [
       "            PM10index   PM25index  SO2index  NO2index  O3index     COindex  \\\n",
       "Date                                                                         \n",
       "2020-05-16       72.0  231.000000     7.125    25.875     14.2  385.294118   \n",
       "2020-05-17       78.0  130.000000    12.875    10.125     15.5  244.285714   \n",
       "2020-05-18       78.0  124.333333     7.750    12.000     15.9  344.705882   \n",
       "2020-05-19       75.3  240.000000     6.375    11.125     12.3  304.117647   \n",
       "2020-05-20       54.7  106.666667     6.000     7.625      9.8  303.529412   \n",
       "\n",
       "                   AQI  \n",
       "Date                    \n",
       "2020-05-16  385.294118  \n",
       "2020-05-17  244.285714  \n",
       "2020-05-18  344.705882  \n",
       "2020-05-19  304.117647  \n",
       "2020-05-20  303.529412  "
      ]
     },
     "execution_count": 124,
     "metadata": {},
     "output_type": "execute_result"
    }
   ],
   "source": [
    "#Defining AQI\n",
    "\n",
    "def calculate_aqi(PM10index, PM25index, SO2index, NO2index, O3index, COindex):\n",
    "    aqi=0\n",
    "    if(PM10index > PM25index and PM10index > SO2index and PM10index > NO2index and PM10index > O3index and PM10index > COindex):\n",
    "        aqi= PM10index\n",
    "    if(PM25index > PM10index and PM25index > SO2index and PM25index > NO2index and PM25index > O3index and PM25index > COindex):\n",
    "        aqi=PM25index\n",
    "    if(SO2index > PM10index and SO2index > PM25index and SO2index > NO2index and SO2index > O3index and SO2index > COindex):\n",
    "        aqi=SO2index\n",
    "    if(NO2index > PM10index and NO2index > PM25index and NO2index > SO2index and NO2index > O3index and NO2index > COindex):\n",
    "        aqi=NO2index\n",
    "    if(O3index > PM10index and O3index > PM25index and O3index > SO2index and O3index > NO2index and O3index > COindex):\n",
    "        aqi=O3index\n",
    "    if(COindex > PM10index and COindex > PM25index and COindex > SO2index and COindex > NO2index and COindex > O3index):\n",
    "        aqi=COindex\n",
    "    return aqi\n",
    "\n",
    "data_merge['AQI']=data_merge.apply(lambda x: calculate_aqi(x['PM10index'],x['PM25index'],x['SO2index'],x['NO2index'],x['O3index'],x['COindex']),axis=1)\n",
    "data_AQI= data_merge[['PM10index','PM25index','SO2index','NO2index','O3index','COindex','AQI']]\n",
    "#data['AQI']= data.apply(calculate_aqi)\n",
    "data_AQI.tail()\n",
    "#data.head()\n",
    "\n",
    "#data['AQI']=data.apply(lambda x:calculate_aqi(x['si'],x['ni'],x['spi'],x['rpi']),axis=1)\n",
    "#df= data[['sampling_date','state','si','ni','rpi','spi','AQI']]\n",
    "#df.head()\n",
    "\n",
    "#data2 = data.copy()\n",
    "#frames = pd.merge(datapm25, datapm10, on= \"Date\")\n",
    "#frame1 = datapm25.append(datapm10, ignore_index=False)\n",
    "#frame2 = dataso2.append(datano2, ignore_index=False)\n",
    "#frame3 = datao3.append(dataco, ignore_index=False)\n",
    "#frame4 = frame1.append(frame2, ignore_index=False)\n",
    "#frame5 = frame4.append(frame3, ignore_index=False)\n",
    "\n",
    "\n",
    "#data_AQI.index = pd.to_datetime(data_AQI.index)"
   ]
  },
  {
   "cell_type": "code",
   "execution_count": 125,
   "metadata": {},
   "outputs": [
    {
     "data": {
      "text/html": [
       "<div>\n",
       "<style scoped>\n",
       "    .dataframe tbody tr th:only-of-type {\n",
       "        vertical-align: middle;\n",
       "    }\n",
       "\n",
       "    .dataframe tbody tr th {\n",
       "        vertical-align: top;\n",
       "    }\n",
       "\n",
       "    .dataframe thead th {\n",
       "        text-align: right;\n",
       "    }\n",
       "</style>\n",
       "<table border=\"1\" class=\"dataframe\">\n",
       "  <thead>\n",
       "    <tr style=\"text-align: right;\">\n",
       "      <th></th>\n",
       "      <th>PM10index</th>\n",
       "      <th>PM25index</th>\n",
       "      <th>SO2index</th>\n",
       "      <th>NO2index</th>\n",
       "      <th>O3index</th>\n",
       "      <th>COindex</th>\n",
       "      <th>AQI</th>\n",
       "      <th>AQI_Range</th>\n",
       "    </tr>\n",
       "    <tr>\n",
       "      <th>Date</th>\n",
       "      <th></th>\n",
       "      <th></th>\n",
       "      <th></th>\n",
       "      <th></th>\n",
       "      <th></th>\n",
       "      <th></th>\n",
       "      <th></th>\n",
       "      <th></th>\n",
       "    </tr>\n",
       "  </thead>\n",
       "  <tbody>\n",
       "    <tr>\n",
       "      <th>2016-01-03</th>\n",
       "      <td>81.3</td>\n",
       "      <td>300.230769</td>\n",
       "      <td>5.375</td>\n",
       "      <td>53.500</td>\n",
       "      <td>20.0</td>\n",
       "      <td>262.857143</td>\n",
       "      <td>300.230769</td>\n",
       "      <td>Very Poor</td>\n",
       "    </tr>\n",
       "    <tr>\n",
       "      <th>2016-01-04</th>\n",
       "      <td>79.3</td>\n",
       "      <td>303.307692</td>\n",
       "      <td>5.625</td>\n",
       "      <td>48.875</td>\n",
       "      <td>19.9</td>\n",
       "      <td>234.285714</td>\n",
       "      <td>303.307692</td>\n",
       "      <td>Very Poor</td>\n",
       "    </tr>\n",
       "    <tr>\n",
       "      <th>2016-01-05</th>\n",
       "      <td>83.0</td>\n",
       "      <td>312.846154</td>\n",
       "      <td>6.375</td>\n",
       "      <td>52.875</td>\n",
       "      <td>17.4</td>\n",
       "      <td>265.714286</td>\n",
       "      <td>312.846154</td>\n",
       "      <td>Very Poor</td>\n",
       "    </tr>\n",
       "    <tr>\n",
       "      <th>2016-01-06</th>\n",
       "      <td>69.7</td>\n",
       "      <td>310.000000</td>\n",
       "      <td>15.875</td>\n",
       "      <td>43.625</td>\n",
       "      <td>17.7</td>\n",
       "      <td>210.000000</td>\n",
       "      <td>310.000000</td>\n",
       "      <td>Very Poor</td>\n",
       "    </tr>\n",
       "    <tr>\n",
       "      <th>2016-01-07</th>\n",
       "      <td>55.3</td>\n",
       "      <td>312.538462</td>\n",
       "      <td>22.750</td>\n",
       "      <td>31.125</td>\n",
       "      <td>13.3</td>\n",
       "      <td>237.142857</td>\n",
       "      <td>312.538462</td>\n",
       "      <td>Very Poor</td>\n",
       "    </tr>\n",
       "  </tbody>\n",
       "</table>\n",
       "</div>"
      ],
      "text/plain": [
       "            PM10index   PM25index  SO2index  NO2index  O3index     COindex  \\\n",
       "Date                                                                         \n",
       "2016-01-03       81.3  300.230769     5.375    53.500     20.0  262.857143   \n",
       "2016-01-04       79.3  303.307692     5.625    48.875     19.9  234.285714   \n",
       "2016-01-05       83.0  312.846154     6.375    52.875     17.4  265.714286   \n",
       "2016-01-06       69.7  310.000000    15.875    43.625     17.7  210.000000   \n",
       "2016-01-07       55.3  312.538462    22.750    31.125     13.3  237.142857   \n",
       "\n",
       "                   AQI  AQI_Range  \n",
       "Date                               \n",
       "2016-01-03  300.230769  Very Poor  \n",
       "2016-01-04  303.307692  Very Poor  \n",
       "2016-01-05  312.846154  Very Poor  \n",
       "2016-01-06  310.000000  Very Poor  \n",
       "2016-01-07  312.538462  Very Poor  "
      ]
     },
     "execution_count": 125,
     "metadata": {},
     "output_type": "execute_result"
    }
   ],
   "source": [
    "#Defining AQI range for corresponding AQI value. \n",
    "\n",
    "def AQI_Range(x):\n",
    "    if x<=50:\n",
    "        return \"Good\"\n",
    "    elif x>50 and x<=100:\n",
    "        return \"Satisfactory\"\n",
    "    elif x>100 and x<=200:\n",
    "        return \"Moderately polluted\"\n",
    "    elif x>200 and x<=300:\n",
    "        return \"Poor\"\n",
    "    elif x>300 and x<=400:\n",
    "        return \"Very Poor\"\n",
    "    elif x>400:\n",
    "        return \"Severe\"\n",
    "\n",
    "data_AQI['AQI_Range'] = data_AQI['AQI'].apply(AQI_Range)\n",
    "data_AQI.head()\n",
    "#data_AQI.to_csv(\"./DataSet/data_AQI1.csv\")"
   ]
  },
  {
   "cell_type": "code",
   "execution_count": 126,
   "metadata": {},
   "outputs": [
    {
     "data": {
      "text/plain": [
       "[<matplotlib.lines.Line2D at 0x12dfd6f0280>]"
      ]
     },
     "execution_count": 126,
     "metadata": {},
     "output_type": "execute_result"
    },
    {
     "data": {
      "image/png": "[encoded data removed]",
      "text/plain": [
       "<Figure size 432x288 with 1 Axes>"
      ]
     },
     "metadata": {
      "needs_background": "light"
     },
     "output_type": "display_data"
    }
   ],
   "source": [
    "data_AQI.index = pd.to_datetime(data_AQI.index)\n",
    "\n",
    "AQI_2016 = data_AQI[\"AQI\"][\"2016\"].mean()\n",
    "AQI_2017 = data_AQI[\"AQI\"][\"2017\"].mean()\n",
    "AQI_2018 = data_AQI[\"AQI\"][\"2018\"].mean()\n",
    "AQI_2019 = data_AQI[\"AQI\"][\"2019\"].mean()\n",
    "AQI_2020 = data_AQI[\"AQI\"][\"2020\"].mean()\n",
    "\n",
    "time = [AQI_2016, AQI_2017, AQI_2018, AQI_2019, AQI_2020]\n",
    "year = [\"2016\", \"2017\", \"2018\", \"2019\", \"2020\"]\n",
    "\n",
    "plt.plot(year,time , color = 'black' , linestyle = '--')\n",
    "#df_new = data_AQI['AQI']\n",
    "#data_AQI[\"AQI\"].plot()\n",
    "#df_new.head()"
   ]
  },
  {
   "cell_type": "markdown",
   "metadata": {},
   "source": [
    "## Prediction: \n",
    "     Decision Tree: "
   ]
  },
  {
   "cell_type": "code",
   "execution_count": 127,
   "metadata": {},
   "outputs": [],
   "source": [
    "from sklearn.model_selection import train_test_split\n",
    "from sklearn.linear_model import LinearRegression\n",
    "from sklearn.metrics import mean_squared_log_error\n",
    "from sklearn.metrics import mean_squared_error\n",
    "from sklearn.metrics import r2_score, mean_squared_error\n",
    "from sklearn.model_selection import KFold\n",
    "from sklearn.model_selection import cross_val_score\n",
    "\n",
    "from sklearn.ensemble import RandomForestClassifier"
   ]
  },
  {
   "cell_type": "code",
   "execution_count": 183,
   "metadata": {},
   "outputs": [],
   "source": [
    "df = pd.read_csv(\"./DataSet/Banglore/Banglore_Prediction.csv\", parse_dates= [\"Date\"])\n",
    "df.set_index (\"Date\", inplace = True)"
   ]
  },
  {
   "cell_type": "code",
   "execution_count": 184,
   "metadata": {
    "scrolled": true
   },
   "outputs": [
    {
     "data": {
      "text/plain": [
       "<matplotlib.axes._subplots.AxesSubplot at 0x12d8013f280>"
      ]
     },
     "execution_count": 184,
     "metadata": {},
     "output_type": "execute_result"
    },
    {
     "data": {
      "image/png": "[encoded data removed]",
      "text/plain": [
       "<Figure size 432x288 with 1 Axes>"
      ]
     },
     "metadata": {
      "needs_background": "light"
     },
     "output_type": "display_data"
    }
   ],
   "source": [
    "sns.heatmap(df.isnull(),yticklabels=False,cbar=False,cmap='viridis')"
   ]
  },
  {
   "cell_type": "code",
   "execution_count": 185,
   "metadata": {
    "scrolled": true
   },
   "outputs": [
    {
     "data": {
      "text/html": [
       "<div>\n",
       "<style scoped>\n",
       "    .dataframe tbody tr th:only-of-type {\n",
       "        vertical-align: middle;\n",
       "    }\n",
       "\n",
       "    .dataframe tbody tr th {\n",
       "        vertical-align: top;\n",
       "    }\n",
       "\n",
       "    .dataframe thead th {\n",
       "        text-align: right;\n",
       "    }\n",
       "</style>\n",
       "<table border=\"1\" class=\"dataframe\">\n",
       "  <thead>\n",
       "    <tr style=\"text-align: right;\">\n",
       "      <th></th>\n",
       "      <th>AQI</th>\n",
       "    </tr>\n",
       "    <tr>\n",
       "      <th>Date</th>\n",
       "      <th></th>\n",
       "    </tr>\n",
       "  </thead>\n",
       "  <tbody>\n",
       "    <tr>\n",
       "      <th>2016-01-01</th>\n",
       "      <td>372.17</td>\n",
       "    </tr>\n",
       "    <tr>\n",
       "      <th>2016-02-01</th>\n",
       "      <td>381.41</td>\n",
       "    </tr>\n",
       "    <tr>\n",
       "      <th>2016-03-01</th>\n",
       "      <td>391.27</td>\n",
       "    </tr>\n",
       "    <tr>\n",
       "      <th>2016-04-01</th>\n",
       "      <td>467.51</td>\n",
       "    </tr>\n",
       "    <tr>\n",
       "      <th>2016-05-01</th>\n",
       "      <td>310.00</td>\n",
       "    </tr>\n",
       "  </tbody>\n",
       "</table>\n",
       "</div>"
      ],
      "text/plain": [
       "               AQI\n",
       "Date              \n",
       "2016-01-01  372.17\n",
       "2016-02-01  381.41\n",
       "2016-03-01  391.27\n",
       "2016-04-01  467.51\n",
       "2016-05-01  310.00"
      ]
     },
     "execution_count": 185,
     "metadata": {},
     "output_type": "execute_result"
    }
   ],
   "source": [
    "df.head()"
   ]
  },
  {
   "cell_type": "code",
   "execution_count": 186,
   "metadata": {},
   "outputs": [
    {
     "data": {
      "text/plain": [
       "<matplotlib.axes._subplots.AxesSubplot at 0x12d8017c0d0>"
      ]
     },
     "execution_count": 186,
     "metadata": {},
     "output_type": "execute_result"
    },
    {
     "data": {
      "image/png": "[encoded data removed]",
      "text/plain": [
       "<Figure size 432x288 with 1 Axes>"
      ]
     },
     "metadata": {
      "needs_background": "light"
     },
     "output_type": "display_data"
    }
   ],
   "source": [
    "df.plot()\n",
    "#df.index"
   ]
  },
  {
   "cell_type": "code",
   "execution_count": 187,
   "metadata": {},
   "outputs": [
    {
     "data": {
      "text/html": [
       "<div>\n",
       "<style scoped>\n",
       "    .dataframe tbody tr th:only-of-type {\n",
       "        vertical-align: middle;\n",
       "    }\n",
       "\n",
       "    .dataframe tbody tr th {\n",
       "        vertical-align: top;\n",
       "    }\n",
       "\n",
       "    .dataframe thead th {\n",
       "        text-align: right;\n",
       "    }\n",
       "</style>\n",
       "<table border=\"1\" class=\"dataframe\">\n",
       "  <thead>\n",
       "    <tr style=\"text-align: right;\">\n",
       "      <th></th>\n",
       "      <th>AQI</th>\n",
       "    </tr>\n",
       "    <tr>\n",
       "      <th>Date</th>\n",
       "      <th></th>\n",
       "    </tr>\n",
       "  </thead>\n",
       "  <tbody>\n",
       "    <tr>\n",
       "      <th>2016-01-01</th>\n",
       "      <td>NaN</td>\n",
       "    </tr>\n",
       "    <tr>\n",
       "      <th>2016-02-01</th>\n",
       "      <td>372.17</td>\n",
       "    </tr>\n",
       "    <tr>\n",
       "      <th>2016-03-01</th>\n",
       "      <td>381.41</td>\n",
       "    </tr>\n",
       "    <tr>\n",
       "      <th>2016-04-01</th>\n",
       "      <td>391.27</td>\n",
       "    </tr>\n",
       "    <tr>\n",
       "      <th>2016-05-01</th>\n",
       "      <td>467.51</td>\n",
       "    </tr>\n",
       "    <tr>\n",
       "      <th>2016-06-01</th>\n",
       "      <td>310.00</td>\n",
       "    </tr>\n",
       "    <tr>\n",
       "      <th>2016-07-01</th>\n",
       "      <td>232.24</td>\n",
       "    </tr>\n",
       "    <tr>\n",
       "      <th>2016-08-01</th>\n",
       "      <td>210.50</td>\n",
       "    </tr>\n",
       "    <tr>\n",
       "      <th>2016-09-01</th>\n",
       "      <td>325.80</td>\n",
       "    </tr>\n",
       "    <tr>\n",
       "      <th>2016-10-01</th>\n",
       "      <td>250.50</td>\n",
       "    </tr>\n",
       "    <tr>\n",
       "      <th>2016-11-01</th>\n",
       "      <td>113.50</td>\n",
       "    </tr>\n",
       "    <tr>\n",
       "      <th>2016-12-01</th>\n",
       "      <td>148.30</td>\n",
       "    </tr>\n",
       "    <tr>\n",
       "      <th>2017-01-01</th>\n",
       "      <td>155.50</td>\n",
       "    </tr>\n",
       "    <tr>\n",
       "      <th>2017-02-01</th>\n",
       "      <td>238.49</td>\n",
       "    </tr>\n",
       "    <tr>\n",
       "      <th>2017-03-01</th>\n",
       "      <td>254.26</td>\n",
       "    </tr>\n",
       "    <tr>\n",
       "      <th>2017-04-01</th>\n",
       "      <td>247.52</td>\n",
       "    </tr>\n",
       "    <tr>\n",
       "      <th>2017-05-01</th>\n",
       "      <td>275.05</td>\n",
       "    </tr>\n",
       "    <tr>\n",
       "      <th>2017-06-01</th>\n",
       "      <td>212.06</td>\n",
       "    </tr>\n",
       "    <tr>\n",
       "      <th>2017-07-01</th>\n",
       "      <td>190.07</td>\n",
       "    </tr>\n",
       "    <tr>\n",
       "      <th>2017-08-01</th>\n",
       "      <td>250.10</td>\n",
       "    </tr>\n",
       "    <tr>\n",
       "      <th>2017-09-01</th>\n",
       "      <td>270.50</td>\n",
       "    </tr>\n",
       "    <tr>\n",
       "      <th>2017-10-01</th>\n",
       "      <td>230.10</td>\n",
       "    </tr>\n",
       "    <tr>\n",
       "      <th>2017-11-01</th>\n",
       "      <td>205.80</td>\n",
       "    </tr>\n",
       "    <tr>\n",
       "      <th>2017-12-01</th>\n",
       "      <td>230.20</td>\n",
       "    </tr>\n",
       "    <tr>\n",
       "      <th>2018-01-01</th>\n",
       "      <td>210.30</td>\n",
       "    </tr>\n",
       "    <tr>\n",
       "      <th>2018-02-01</th>\n",
       "      <td>281.06</td>\n",
       "    </tr>\n",
       "    <tr>\n",
       "      <th>2018-03-01</th>\n",
       "      <td>248.59</td>\n",
       "    </tr>\n",
       "    <tr>\n",
       "      <th>2018-04-01</th>\n",
       "      <td>300.06</td>\n",
       "    </tr>\n",
       "    <tr>\n",
       "      <th>2018-05-01</th>\n",
       "      <td>284.40</td>\n",
       "    </tr>\n",
       "    <tr>\n",
       "      <th>2018-06-01</th>\n",
       "      <td>283.97</td>\n",
       "    </tr>\n",
       "    <tr>\n",
       "      <th>2018-07-01</th>\n",
       "      <td>249.05</td>\n",
       "    </tr>\n",
       "    <tr>\n",
       "      <th>2018-08-01</th>\n",
       "      <td>205.80</td>\n",
       "    </tr>\n",
       "    <tr>\n",
       "      <th>2018-09-01</th>\n",
       "      <td>208.30</td>\n",
       "    </tr>\n",
       "    <tr>\n",
       "      <th>2018-10-01</th>\n",
       "      <td>213.80</td>\n",
       "    </tr>\n",
       "    <tr>\n",
       "      <th>2018-11-01</th>\n",
       "      <td>210.40</td>\n",
       "    </tr>\n",
       "    <tr>\n",
       "      <th>2018-12-01</th>\n",
       "      <td>216.50</td>\n",
       "    </tr>\n",
       "    <tr>\n",
       "      <th>2019-01-01</th>\n",
       "      <td>237.90</td>\n",
       "    </tr>\n",
       "    <tr>\n",
       "      <th>2019-02-01</th>\n",
       "      <td>317.08</td>\n",
       "    </tr>\n",
       "    <tr>\n",
       "      <th>2019-03-01</th>\n",
       "      <td>291.81</td>\n",
       "    </tr>\n",
       "    <tr>\n",
       "      <th>2019-04-01</th>\n",
       "      <td>304.36</td>\n",
       "    </tr>\n",
       "    <tr>\n",
       "      <th>2019-05-01</th>\n",
       "      <td>343.64</td>\n",
       "    </tr>\n",
       "    <tr>\n",
       "      <th>2019-06-01</th>\n",
       "      <td>320.17</td>\n",
       "    </tr>\n",
       "    <tr>\n",
       "      <th>2019-07-01</th>\n",
       "      <td>267.27</td>\n",
       "    </tr>\n",
       "    <tr>\n",
       "      <th>2019-08-01</th>\n",
       "      <td>248.36</td>\n",
       "    </tr>\n",
       "    <tr>\n",
       "      <th>2019-09-01</th>\n",
       "      <td>275.90</td>\n",
       "    </tr>\n",
       "    <tr>\n",
       "      <th>2019-10-01</th>\n",
       "      <td>282.88</td>\n",
       "    </tr>\n",
       "    <tr>\n",
       "      <th>2019-11-01</th>\n",
       "      <td>296.24</td>\n",
       "    </tr>\n",
       "    <tr>\n",
       "      <th>2019-12-01</th>\n",
       "      <td>292.87</td>\n",
       "    </tr>\n",
       "    <tr>\n",
       "      <th>2020-01-01</th>\n",
       "      <td>265.85</td>\n",
       "    </tr>\n",
       "    <tr>\n",
       "      <th>2020-02-01</th>\n",
       "      <td>317.85</td>\n",
       "    </tr>\n",
       "    <tr>\n",
       "      <th>2020-03-01</th>\n",
       "      <td>305.59</td>\n",
       "    </tr>\n",
       "    <tr>\n",
       "      <th>2020-04-01</th>\n",
       "      <td>250.30</td>\n",
       "    </tr>\n",
       "    <tr>\n",
       "      <th>2020-05-01</th>\n",
       "      <td>230.10</td>\n",
       "    </tr>\n",
       "  </tbody>\n",
       "</table>\n",
       "</div>"
      ],
      "text/plain": [
       "               AQI\n",
       "Date              \n",
       "2016-01-01     NaN\n",
       "2016-02-01  372.17\n",
       "2016-03-01  381.41\n",
       "2016-04-01  391.27\n",
       "2016-05-01  467.51\n",
       "2016-06-01  310.00\n",
       "2016-07-01  232.24\n",
       "2016-08-01  210.50\n",
       "2016-09-01  325.80\n",
       "2016-10-01  250.50\n",
       "2016-11-01  113.50\n",
       "2016-12-01  148.30\n",
       "2017-01-01  155.50\n",
       "2017-02-01  238.49\n",
       "2017-03-01  254.26\n",
       "2017-04-01  247.52\n",
       "2017-05-01  275.05\n",
       "2017-06-01  212.06\n",
       "2017-07-01  190.07\n",
       "2017-08-01  250.10\n",
       "2017-09-01  270.50\n",
       "2017-10-01  230.10\n",
       "2017-11-01  205.80\n",
       "2017-12-01  230.20\n",
       "2018-01-01  210.30\n",
       "2018-02-01  281.06\n",
       "2018-03-01  248.59\n",
       "2018-04-01  300.06\n",
       "2018-05-01  284.40\n",
       "2018-06-01  283.97\n",
       "2018-07-01  249.05\n",
       "2018-08-01  205.80\n",
       "2018-09-01  208.30\n",
       "2018-10-01  213.80\n",
       "2018-11-01  210.40\n",
       "2018-12-01  216.50\n",
       "2019-01-01  237.90\n",
       "2019-02-01  317.08\n",
       "2019-03-01  291.81\n",
       "2019-04-01  304.36\n",
       "2019-05-01  343.64\n",
       "2019-06-01  320.17\n",
       "2019-07-01  267.27\n",
       "2019-08-01  248.36\n",
       "2019-09-01  275.90\n",
       "2019-10-01  282.88\n",
       "2019-11-01  296.24\n",
       "2019-12-01  292.87\n",
       "2020-01-01  265.85\n",
       "2020-02-01  317.85\n",
       "2020-03-01  305.59\n",
       "2020-04-01  250.30\n",
       "2020-05-01  230.10"
      ]
     },
     "execution_count": 187,
     "metadata": {},
     "output_type": "execute_result"
    }
   ],
   "source": [
    "df.shift(1)"
   ]
  },
  {
   "cell_type": "code",
   "execution_count": 188,
   "metadata": {},
   "outputs": [],
   "source": [
    "df_diff = df.diff(periods=1)"
   ]
  },
  {
   "cell_type": "code",
   "execution_count": 189,
   "metadata": {},
   "outputs": [
    {
     "data": {
      "text/html": [
       "<div>\n",
       "<style scoped>\n",
       "    .dataframe tbody tr th:only-of-type {\n",
       "        vertical-align: middle;\n",
       "    }\n",
       "\n",
       "    .dataframe tbody tr th {\n",
       "        vertical-align: top;\n",
       "    }\n",
       "\n",
       "    .dataframe thead th {\n",
       "        text-align: right;\n",
       "    }\n",
       "</style>\n",
       "<table border=\"1\" class=\"dataframe\">\n",
       "  <thead>\n",
       "    <tr style=\"text-align: right;\">\n",
       "      <th></th>\n",
       "      <th>AQI</th>\n",
       "    </tr>\n",
       "    <tr>\n",
       "      <th>Date</th>\n",
       "      <th></th>\n",
       "    </tr>\n",
       "  </thead>\n",
       "  <tbody>\n",
       "    <tr>\n",
       "      <th>2016-02-01</th>\n",
       "      <td>9.24</td>\n",
       "    </tr>\n",
       "    <tr>\n",
       "      <th>2016-03-01</th>\n",
       "      <td>9.86</td>\n",
       "    </tr>\n",
       "    <tr>\n",
       "      <th>2016-04-01</th>\n",
       "      <td>76.24</td>\n",
       "    </tr>\n",
       "    <tr>\n",
       "      <th>2016-05-01</th>\n",
       "      <td>-157.51</td>\n",
       "    </tr>\n",
       "    <tr>\n",
       "      <th>2016-06-01</th>\n",
       "      <td>-77.76</td>\n",
       "    </tr>\n",
       "  </tbody>\n",
       "</table>\n",
       "</div>"
      ],
      "text/plain": [
       "               AQI\n",
       "Date              \n",
       "2016-02-01    9.24\n",
       "2016-03-01    9.86\n",
       "2016-04-01   76.24\n",
       "2016-05-01 -157.51\n",
       "2016-06-01  -77.76"
      ]
     },
     "execution_count": 189,
     "metadata": {},
     "output_type": "execute_result"
    }
   ],
   "source": [
    "df_diff = df_diff[1:]\n",
    "df_diff.head()"
   ]
  },
  {
   "cell_type": "code",
   "execution_count": 190,
   "metadata": {},
   "outputs": [
    {
     "data": {
      "image/png": "[encoded data removed]",
      "text/plain": [
       "<Figure size 432x288 with 1 Axes>"
      ]
     },
     "execution_count": 190,
     "metadata": {},
     "output_type": "execute_result"
    },
    {
     "data": {
      "image/png": "[encoded data removed]",
      "text/plain": [
       "<Figure size 432x288 with 1 Axes>"
      ]
     },
     "metadata": {
      "needs_background": "light"
     },
     "output_type": "display_data"
    }
   ],
   "source": [
    "plot_acf(df_diff)"
   ]
  },
  {
   "cell_type": "code",
   "execution_count": 191,
   "metadata": {},
   "outputs": [
    {
     "data": {
      "text/plain": [
       "<matplotlib.axes._subplots.AxesSubplot at 0x12d803c7b50>"
      ]
     },
     "execution_count": 191,
     "metadata": {},
     "output_type": "execute_result"
    },
    {
     "data": {
      "image/png": "[encoded data removed]",
      "text/plain": [
       "<Figure size 432x288 with 1 Axes>"
      ]
     },
     "metadata": {
      "needs_background": "light"
     },
     "output_type": "display_data"
    }
   ],
   "source": [
    "df_diff.plot()"
   ]
  },
  {
   "cell_type": "code",
   "execution_count": 196,
   "metadata": {},
   "outputs": [],
   "source": [
    "X = df.values\n",
    "train = X[0:40] # 27 data as train data\n",
    "test = X[40:]  # 9 data as test data\n",
    "predictions = []"
   ]
  },
  {
   "cell_type": "code",
   "execution_count": 197,
   "metadata": {},
   "outputs": [
    {
     "data": {
      "text/plain": [
       "40"
      ]
     },
     "execution_count": 197,
     "metadata": {},
     "output_type": "execute_result"
    }
   ],
   "source": [
    "train.size"
   ]
  },
  {
   "cell_type": "code",
   "execution_count": 198,
   "metadata": {},
   "outputs": [],
   "source": [
    "from statsmodels.tsa.ar_model import AR\n",
    "from sklearn.metrics import mean_squared_error\n",
    "model_ar = AR(train)\n",
    "model_ar_fit = model_ar.fit()"
   ]
  },
  {
   "cell_type": "code",
   "execution_count": 199,
   "metadata": {},
   "outputs": [],
   "source": [
    "predictions = model_ar_fit.predict(start=40,end=53)"
   ]
  },
  {
   "cell_type": "code",
   "execution_count": 200,
   "metadata": {},
   "outputs": [
    {
     "data": {
      "text/plain": [
       "array([[320.17],\n",
       "       [267.27],\n",
       "       [248.36],\n",
       "       [275.9 ],\n",
       "       [282.88],\n",
       "       [296.24],\n",
       "       [292.87],\n",
       "       [265.85],\n",
       "       [317.85],\n",
       "       [305.59],\n",
       "       [250.3 ],\n",
       "       [230.1 ],\n",
       "       [216.3 ]])"
      ]
     },
     "execution_count": 200,
     "metadata": {},
     "output_type": "execute_result"
    }
   ],
   "source": [
    "test"
   ]
  },
  {
   "cell_type": "code",
   "execution_count": 201,
   "metadata": {},
   "outputs": [
    {
     "data": {
      "text/plain": [
       "[<matplotlib.lines.Line2D at 0x12d8044d160>]"
      ]
     },
     "execution_count": 201,
     "metadata": {},
     "output_type": "execute_result"
    },
    {
     "data": {
      "image/png": "[encoded data removed]",
      "text/plain": [
       "<Figure size 432x288 with 1 Axes>"
      ]
     },
     "metadata": {
      "needs_background": "light"
     },
     "output_type": "display_data"
    }
   ],
   "source": [
    "plt.plot(test)\n",
    "plt.plot(predictions,color='red')"
   ]
  },
  {
   "cell_type": "code",
   "execution_count": 202,
   "metadata": {},
   "outputs": [
    {
     "name": "stdout",
     "output_type": "stream",
     "text": [
      "432.46661913695795\n"
     ]
    }
   ],
   "source": [
    "model_arima = ARIMA(train,order=(9, 2, 0))\n",
    "model_arima_fit = model_arima.fit()\n",
    "print(model_arima_fit.aic)"
   ]
  },
  {
   "cell_type": "code",
   "execution_count": 206,
   "metadata": {},
   "outputs": [
    {
     "data": {
      "text/plain": [
       "array([390.11324591, 418.9276429 , 423.08881299, 462.64306048,\n",
       "       502.84975228, 540.83576431, 568.6814757 , 601.20514477,\n",
       "       646.09280795, 686.12229706, 725.79916636, 764.74380977,\n",
       "       809.75892137])"
      ]
     },
     "execution_count": 206,
     "metadata": {},
     "output_type": "execute_result"
    }
   ],
   "source": [
    "predictions= model_arima_fit.forecast(steps=13)[0]\n",
    "predictions"
   ]
  },
  {
   "cell_type": "code",
   "execution_count": 204,
   "metadata": {},
   "outputs": [
    {
     "data": {
      "text/plain": [
       "[<matplotlib.lines.Line2D at 0x12d804a3340>]"
      ]
     },
     "execution_count": 204,
     "metadata": {},
     "output_type": "execute_result"
    },
    {
     "data": {
      "image/png": "[encoded data removed]",
      "text/plain": [
       "<Figure size 432x288 with 1 Axes>"
      ]
     },
     "metadata": {
      "needs_background": "light"
     },
     "output_type": "display_data"
    }
   ],
   "source": [
    "plt.plot(test)\n",
    "plt.plot(predictions,color='red')"
   ]
  },
  {
   "cell_type": "code",
   "execution_count": 207,
   "metadata": {},
   "outputs": [
    {
     "data": {
      "text/plain": [
       "115902.24400476675"
      ]
     },
     "execution_count": 207,
     "metadata": {},
     "output_type": "execute_result"
    }
   ],
   "source": [
    "mean_squared_error(test,predictions)"
   ]
  },
  {
   "cell_type": "code",
   "execution_count": 208,
   "metadata": {},
   "outputs": [
    {
     "data": {
      "text/plain": [
       "[(0, 0, 0),\n",
       " (0, 0, 1),\n",
       " (0, 0, 2),\n",
       " (0, 0, 3),\n",
       " (0, 0, 4),\n",
       " (0, 1, 0),\n",
       " (0, 1, 1),\n",
       " (0, 1, 2),\n",
       " (0, 1, 3),\n",
       " (0, 1, 4),\n",
       " (0, 2, 0),\n",
       " (0, 2, 1),\n",
       " (0, 2, 2),\n",
       " (0, 2, 3),\n",
       " (0, 2, 4),\n",
       " (0, 3, 0),\n",
       " (0, 3, 1),\n",
       " (0, 3, 2),\n",
       " (0, 3, 3),\n",
       " (0, 3, 4),\n",
       " (0, 4, 0),\n",
       " (0, 4, 1),\n",
       " (0, 4, 2),\n",
       " (0, 4, 3),\n",
       " (0, 4, 4),\n",
       " (1, 0, 0),\n",
       " (1, 0, 1),\n",
       " (1, 0, 2),\n",
       " (1, 0, 3),\n",
       " (1, 0, 4),\n",
       " (1, 1, 0),\n",
       " (1, 1, 1),\n",
       " (1, 1, 2),\n",
       " (1, 1, 3),\n",
       " (1, 1, 4),\n",
       " (1, 2, 0),\n",
       " (1, 2, 1),\n",
       " (1, 2, 2),\n",
       " (1, 2, 3),\n",
       " (1, 2, 4),\n",
       " (1, 3, 0),\n",
       " (1, 3, 1),\n",
       " (1, 3, 2),\n",
       " (1, 3, 3),\n",
       " (1, 3, 4),\n",
       " (1, 4, 0),\n",
       " (1, 4, 1),\n",
       " (1, 4, 2),\n",
       " (1, 4, 3),\n",
       " (1, 4, 4),\n",
       " (2, 0, 0),\n",
       " (2, 0, 1),\n",
       " (2, 0, 2),\n",
       " (2, 0, 3),\n",
       " (2, 0, 4),\n",
       " (2, 1, 0),\n",
       " (2, 1, 1),\n",
       " (2, 1, 2),\n",
       " (2, 1, 3),\n",
       " (2, 1, 4),\n",
       " (2, 2, 0),\n",
       " (2, 2, 1),\n",
       " (2, 2, 2),\n",
       " (2, 2, 3),\n",
       " (2, 2, 4),\n",
       " (2, 3, 0),\n",
       " (2, 3, 1),\n",
       " (2, 3, 2),\n",
       " (2, 3, 3),\n",
       " (2, 3, 4),\n",
       " (2, 4, 0),\n",
       " (2, 4, 1),\n",
       " (2, 4, 2),\n",
       " (2, 4, 3),\n",
       " (2, 4, 4),\n",
       " (3, 0, 0),\n",
       " (3, 0, 1),\n",
       " (3, 0, 2),\n",
       " (3, 0, 3),\n",
       " (3, 0, 4),\n",
       " (3, 1, 0),\n",
       " (3, 1, 1),\n",
       " (3, 1, 2),\n",
       " (3, 1, 3),\n",
       " (3, 1, 4),\n",
       " (3, 2, 0),\n",
       " (3, 2, 1),\n",
       " (3, 2, 2),\n",
       " (3, 2, 3),\n",
       " (3, 2, 4),\n",
       " (3, 3, 0),\n",
       " (3, 3, 1),\n",
       " (3, 3, 2),\n",
       " (3, 3, 3),\n",
       " (3, 3, 4),\n",
       " (3, 4, 0),\n",
       " (3, 4, 1),\n",
       " (3, 4, 2),\n",
       " (3, 4, 3),\n",
       " (3, 4, 4),\n",
       " (4, 0, 0),\n",
       " (4, 0, 1),\n",
       " (4, 0, 2),\n",
       " (4, 0, 3),\n",
       " (4, 0, 4),\n",
       " (4, 1, 0),\n",
       " (4, 1, 1),\n",
       " (4, 1, 2),\n",
       " (4, 1, 3),\n",
       " (4, 1, 4),\n",
       " (4, 2, 0),\n",
       " (4, 2, 1),\n",
       " (4, 2, 2),\n",
       " (4, 2, 3),\n",
       " (4, 2, 4),\n",
       " (4, 3, 0),\n",
       " (4, 3, 1),\n",
       " (4, 3, 2),\n",
       " (4, 3, 3),\n",
       " (4, 3, 4),\n",
       " (4, 4, 0),\n",
       " (4, 4, 1),\n",
       " (4, 4, 2),\n",
       " (4, 4, 3),\n",
       " (4, 4, 4)]"
      ]
     },
     "execution_count": 208,
     "metadata": {},
     "output_type": "execute_result"
    }
   ],
   "source": [
    "import itertools\n",
    "p=d=q=range(0,5)\n",
    "pdq = list(itertools.product(p,d,q))\n",
    "pdq\n"
   ]
  },
  {
   "cell_type": "code",
   "execution_count": 209,
   "metadata": {},
   "outputs": [
    {
     "name": "stdout",
     "output_type": "stream",
     "text": [
      "(0, 0, 0) 591.489562965356\n",
      "(0, 0, 1) 567.95236891546\n",
      "(0, 0, 2) 563.6229574878596\n",
      "(0, 0, 3) 565.4284590264919\n",
      "(0, 0, 4) 567.4280068519785\n",
      "(0, 1, 0) 557.864360747421\n",
      "(0, 1, 1) 559.5691266260769\n",
      "(0, 1, 2) 557.2145287832476\n",
      "(0, 1, 3) 557.6159814710056\n",
      "(0, 1, 4) 559.3637667657787\n",
      "(0, 2, 0) 585.9984734333837\n",
      "(0, 2, 1) 554.0618907419114\n",
      "(0, 2, 2) 555.9372603342279\n",
      "(0, 2, 3) 554.0785661212335\n",
      "(0, 2, 4) 554.506885296315\n",
      "(1, 0, 0) 562.5673718330032\n",
      "(1, 0, 1) 563.2231672958807\n",
      "(1, 0, 2) 565.2229734557534\n",
      "(1, 0, 3) 566.8594473643095\n",
      "(1, 0, 4) 568.0792575783785\n",
      "(1, 1, 0) 559.7354928968894\n",
      "(1, 1, 1) 556.275391225084\n",
      "(1, 1, 2) 557.331484790198\n",
      "(1, 1, 3) 559.5090420377757\n",
      "(1, 1, 4) 561.3424207196476\n",
      "(1, 2, 0) 579.3492118631343\n",
      "(1, 2, 1) 556.0038807170702\n",
      "(2, 0, 0) 563.3891272081568\n",
      "(2, 0, 1) 565.2231224770569\n",
      "(2, 0, 2) 564.7535609357583\n",
      "(2, 0, 3) 568.7629302937163\n",
      "(2, 0, 4) 570.1188204390819\n",
      "(2, 1, 0) 557.9701903797866\n",
      "(2, 1, 1) 558.2573891264656\n",
      "(2, 1, 2) 558.1919489477259\n",
      "(2, 1, 3) 558.6915705022922\n",
      "(2, 1, 4) 560.4247287393431\n",
      "(2, 2, 0) 573.9765257864738\n",
      "(2, 2, 1) 554.6131026798648\n",
      "(3, 0, 0) 565.0463237909204\n",
      "(3, 0, 1) 567.018143593932\n",
      "(3, 0, 3) 569.6694882455769\n",
      "(3, 1, 0) 557.1320836829963\n",
      "(3, 1, 1) 559.0064120187703\n",
      "(3, 1, 2) 561.4737285829881\n",
      "(3, 1, 4) 564.5142916626701\n",
      "(3, 2, 0) 563.3365008373464\n",
      "(3, 2, 1) 553.708795017567\n",
      "(3, 2, 2) 555.5867542072247\n",
      "(4, 0, 0) 566.8599467769144\n",
      "(4, 0, 1) 568.6495366725511\n",
      "(4, 0, 2) 566.9478668010479\n",
      "(4, 0, 3) 572.9840173313638\n",
      "(4, 1, 0) 558.8474342850585\n",
      "(4, 1, 1) 559.9119308348049\n",
      "(4, 1, 2) 561.6874321037766\n",
      "(4, 1, 3) 560.8829195205723\n",
      "(4, 1, 4) 560.3070190275101\n",
      "(4, 2, 0) 558.8513503779006\n",
      "(4, 2, 1) 555.4245751725007\n"
     ]
    }
   ],
   "source": [
    "import warnings\n",
    "warnings.filterwarnings('ignore')\n",
    "for param in pdq:\n",
    "    try:\n",
    "        model_arima = ARIMA(df['AQI'],order=param)\n",
    "        model_arima_fit = model_arima.fit()\n",
    "        print(param,model_arima_fit.aic)\n",
    "    except:\n",
    "        continue"
   ]
  },
  {
   "cell_type": "code",
   "execution_count": null,
   "metadata": {},
   "outputs": [],
   "source": []
  }
 ],
 "metadata": {
  "kernelspec": {
   "display_name": "Python 3",
   "language": "python",
   "name": "python3"
  },
  "language_info": {
   "codemirror_mode": {
    "name": "ipython",
    "version": 3
   },
   "file_extension": ".py",
   "mimetype": "text/x-python",
   "name": "python",
   "nbconvert_exporter": "python",
   "pygments_lexer": "ipython3",
   "version": "3.8.2"
  }
 },
 "nbformat": 4,
 "nbformat_minor": 4
}
